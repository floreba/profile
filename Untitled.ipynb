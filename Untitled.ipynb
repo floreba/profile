{
 "cells": [
  {
   "cell_type": "code",
   "execution_count": 23,
   "id": "b37b2027",
   "metadata": {},
   "outputs": [],
   "source": [
    "def accum(s):\n",
    "    new = []\n",
    "    for idx, x in enumerate(s):\n",
    "        l = x.capitalize()\n",
    "        r = x.lower()\n",
    "        new.append(l+(r*idx))\n",
    "    s = \"-\".join(new)\n",
    "    return s"
   ]
  },
  {
   "cell_type": "code",
   "execution_count": 25,
   "id": "5df495f5",
   "metadata": {},
   "outputs": [
    {
     "data": {
      "text/plain": [
       "'R-Qq-Aaa-Eeee-Zzzzz-Tttttt-Yyyyyyy'"
      ]
     },
     "execution_count": 25,
     "metadata": {},
     "output_type": "execute_result"
    }
   ],
   "source": [
    "accum(\"RqaEzty\")"
   ]
  },
  {
   "cell_type": "code",
   "execution_count": null,
   "id": "e41d1b70",
   "metadata": {},
   "outputs": [],
   "source": []
  },
  {
   "cell_type": "code",
   "execution_count": null,
   "id": "20ecbf15",
   "metadata": {},
   "outputs": [],
   "source": []
  }
 ],
 "metadata": {
  "kernelspec": {
   "display_name": "Python 3 (ipykernel)",
   "language": "python",
   "name": "python3"
  },
  "language_info": {
   "codemirror_mode": {
    "name": "ipython",
    "version": 3
   },
   "file_extension": ".py",
   "mimetype": "text/x-python",
   "name": "python",
   "nbconvert_exporter": "python",
   "pygments_lexer": "ipython3",
   "version": "3.9.12"
  }
 },
 "nbformat": 4,
 "nbformat_minor": 5
}
